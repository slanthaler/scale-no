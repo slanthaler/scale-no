{
 "cells": [
  {
   "cell_type": "markdown",
   "id": "e4f5336d-2a09-4b87-b6b9-1ec1d21de10a",
   "metadata": {},
   "source": [
    "# Gaussian Random Field with exponential kernel\n",
    "\n",
    "This implements a Gaussian random field with exponential kernel, \n",
    "which is equivalent to the one used to generate data for symmetry-NO\n",
    "in the corresponding MATLAB file."
   ]
  },
  {
   "cell_type": "code",
   "execution_count": 6,
   "id": "1da03089-357e-44bc-af01-ee2e434ff79c",
   "metadata": {},
   "outputs": [],
   "source": [
    "import torch\n",
    "import math \n",
    "\n",
    "\n",
    "class GaussianRF_length(object):\n",
    "\n",
    "    def __init__(self, dim, size, alpha=0.5, length=1.0, boundary=\"periodic\", device=None):\n",
    "\n",
    "        self.dim = dim\n",
    "        self.device = device\n",
    "\n",
    "\n",
    "        k_max = size//2\n",
    "\n",
    "        if dim == 1:\n",
    "            k = torch.cat((torch.arange(start=0, end=k_max, step=1, device=device), \\\n",
    "                           torch.arange(start=-k_max, end=0, step=1, device=device)), 0)\n",
    "\n",
    "            #self.sqrt_eig = size*math.sqrt(2.0)*sigma*((4*(math.pi**2)*(k**2) + tau**2)**(-alpha/2.0))\n",
    "            #self.sqrt_eig[0] = 0.0\n",
    "            self.sqrt_eig = size * torch.exp(-( length*torch.sqrt(k**2) )**alpha)\n",
    "\n",
    "        elif dim == 2:\n",
    "            wavenumers = torch.cat((torch.arange(start=0, end=k_max, step=1, device=device), \\\n",
    "                                    torch.arange(start=-k_max, end=0, step=1, device=device)), 0).repeat(size,1)\n",
    "\n",
    "            k_x = wavenumers.transpose(0,1)\n",
    "            k_y = wavenumers\n",
    "\n",
    "            # self.sqrt_eig = (size**2)*math.sqrt(2.0)*sigma*((4*(math.pi**2)*(k_x**2 + k_y**2) + tau**2)**(-alpha/2.0))\n",
    "            # self.sqrt_eig[0,0] = 0.0\n",
    "            self.sqrt_eig = size**2 * torch.exp(-( length*torch.sqrt(k_x**2+k_y**2) )**alpha)\n",
    "\n",
    "        elif dim == 3:\n",
    "            wavenumers = torch.cat((torch.arange(start=0, end=k_max, step=1, device=device), \\\n",
    "                                    torch.arange(start=-k_max, end=0, step=1, device=device)), 0).repeat(size,size,1)\n",
    "\n",
    "            k_x = wavenumers.transpose(1,2)\n",
    "            k_y = wavenumers\n",
    "            k_z = wavenumers.transpose(0,2)\n",
    "\n",
    "            # self.sqrt_eig = (size**3)*math.sqrt(2.0)*sigma*((4*(math.pi**2)*(k_x**2 + k_y**2 + k_z**2) + tau**2)**(-alpha/2.0))\n",
    "            # self.sqrt_eig[0,0,0] = 0.0\n",
    "            self.sqrt_eig = size**3 * torch.exp(-( length*torch.sqrt(k_x**2+k_y**2+k_z**2) )**alpha)\n",
    "\n",
    "        self.size = []\n",
    "        for j in range(self.dim):\n",
    "            self.size.append(size)\n",
    "\n",
    "        self.size = tuple(self.size)\n",
    "\n",
    "    def sample(self, N):\n",
    "\n",
    "        coeff = torch.randn(N, *self.size, dtype=torch.cfloat, device=self.device)\n",
    "        coeff = self.sqrt_eig * coeff\n",
    "\n",
    "        return torch.fft.ifftn(coeff, dim=list(range(-1, -self.dim - 1, -1))).real\n"
   ]
  },
  {
   "cell_type": "code",
   "execution_count": 13,
   "id": "c23128ae-d214-4d69-9f9e-2b39bd99e784",
   "metadata": {},
   "outputs": [],
   "source": [
    "def coefficient_cutoff(x_grf):\n",
    "    x_grf[x_grf>0] = 12\n",
    "    x_grf[x_grf<=0] = 2\n",
    "    return x_grf"
   ]
  },
  {
   "cell_type": "code",
   "execution_count": null,
   "id": "31bbb1f0-d1ff-4c8b-8ce6-d4670860b7dd",
   "metadata": {},
   "outputs": [],
   "source": []
  },
  {
   "cell_type": "code",
   "execution_count": 19,
   "id": "3cecaf96-a545-4ea1-91ed-c5656cd6471c",
   "metadata": {},
   "outputs": [
    {
     "data": {
      "image/png": "[encoded data removed]",
      "text/plain": [
       "<Figure size 640x480 with 2 Axes>"
      ]
     },
     "metadata": {},
     "output_type": "display_data"
    }
   ],
   "source": [
    "import matplotlib.pyplot as plt\n",
    "\n",
    "size = 256\n",
    "length = 0.5\n",
    "dim = 2\n",
    "Nsamp = 1\n",
    "grf = GaussianRF_length(dim,size,length=length)\n",
    "x = grf.sample(Nsamp)\n",
    "x.shape\n",
    "\n",
    "x = coefficient_cutoff(x)\n",
    "\n",
    "plt.figure()\n",
    "plt.pcolor(x.squeeze().numpy())\n",
    "plt.colorbar()\n",
    "plt.show()"
   ]
  },
  {
   "cell_type": "code",
   "execution_count": null,
   "id": "5c4f804d-5bc2-4747-8564-d429f45e31f4",
   "metadata": {},
   "outputs": [],
   "source": []
  }
 ],
 "metadata": {
  "kernelspec": {
   "display_name": "ml",
   "language": "python",
   "name": "ml"
  },
  "language_info": {
   "codemirror_mode": {
    "name": "ipython",
    "version": 3
   },
   "file_extension": ".py",
   "mimetype": "text/x-python",
   "name": "python",
   "nbconvert_exporter": "python",
   "pygments_lexer": "ipython3",
   "version": "3.8.18"
  }
 },
 "nbformat": 4,
 "nbformat_minor": 5
}
